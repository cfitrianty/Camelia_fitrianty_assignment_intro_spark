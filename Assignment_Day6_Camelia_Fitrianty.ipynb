{
 "cells": [
  {
   "cell_type": "code",
   "execution_count": 57,
   "id": "ab86b667-d726-4315-9ca4-23bcc502463a",
   "metadata": {},
   "outputs": [
    {
     "name": "stdout",
     "output_type": "stream",
     "text": [
      "Requirement already satisfied: pyspark in c:\\users\\67622\\appdata\\local\\packages\\pythonsoftwarefoundation.python.3.11_qbz5n2kfra8p0\\localcache\\local-packages\\python311\\site-packages (3.5.2)\n",
      "Requirement already satisfied: py4j==0.10.9.7 in c:\\users\\67622\\appdata\\local\\packages\\pythonsoftwarefoundation.python.3.11_qbz5n2kfra8p0\\localcache\\local-packages\\python311\\site-packages (from pyspark) (0.10.9.7)\n"
     ]
    }
   ],
   "source": [
    "# Install Pyspark\n",
    "!pip install pyspark"
   ]
  },
  {
   "cell_type": "code",
   "execution_count": 58,
   "id": "c4ae041f",
   "metadata": {},
   "outputs": [],
   "source": [
    "# Import LIbrary\n",
    "import pandas as pd\n",
    "import seaborn as sns\n",
    "import matplotlib.pyplot as plt"
   ]
  },
  {
   "cell_type": "markdown",
   "id": "ef4b2f57-1482-4350-9698-2b3c73e480e3",
   "metadata": {},
   "source": [
    "## RDD (SparkContext)"
   ]
  },
  {
   "cell_type": "code",
   "execution_count": 59,
   "id": "7b741202-f75e-4c0d-b375-3c29ec23a97d",
   "metadata": {},
   "outputs": [
    {
     "data": {
      "text/html": [
       "\n",
       "        <div>\n",
       "            <p><b>SparkContext</b></p>\n",
       "\n",
       "            <p><a href=\"http://ADV-67622-6B2A.hq.bni.co.id:4040\">Spark UI</a></p>\n",
       "\n",
       "            <dl>\n",
       "              <dt>Version</dt>\n",
       "                <dd><code>v3.5.2</code></dd>\n",
       "              <dt>Master</dt>\n",
       "                <dd><code>local[*]</code></dd>\n",
       "              <dt>AppName</dt>\n",
       "                <dd><code>assignment_day6</code></dd>\n",
       "            </dl>\n",
       "        </div>\n",
       "        "
      ],
      "text/plain": [
       "<SparkContext master=local[*] appName=assignment_day6>"
      ]
     },
     "execution_count": 59,
     "metadata": {},
     "output_type": "execute_result"
    }
   ],
   "source": [
    "# Titik utama masuk Spark untuk RDD\n",
    "from pyspark import SparkContext, SparkConf\n",
    "\n",
    "conf = SparkConf().setAppName('assignment_day6').setMaster('local[*]')\n",
    "sc = SparkContext.getOrCreate(conf=conf)\n",
    "sc"
   ]
  },
  {
   "cell_type": "code",
   "execution_count": 60,
   "id": "6cf897c6-f018-42bb-8400-105662625e26",
   "metadata": {},
   "outputs": [
    {
     "data": {
      "text/plain": [
       "[('spark.driver.extraJavaOptions',\n",
       "  '-Djava.net.preferIPv6Addresses=false -XX:+IgnoreUnrecognizedVMOptions --add-opens=java.base/java.lang=ALL-UNNAMED --add-opens=java.base/java.lang.invoke=ALL-UNNAMED --add-opens=java.base/java.lang.reflect=ALL-UNNAMED --add-opens=java.base/java.io=ALL-UNNAMED --add-opens=java.base/java.net=ALL-UNNAMED --add-opens=java.base/java.nio=ALL-UNNAMED --add-opens=java.base/java.util=ALL-UNNAMED --add-opens=java.base/java.util.concurrent=ALL-UNNAMED --add-opens=java.base/java.util.concurrent.atomic=ALL-UNNAMED --add-opens=java.base/jdk.internal.ref=ALL-UNNAMED --add-opens=java.base/sun.nio.ch=ALL-UNNAMED --add-opens=java.base/sun.nio.cs=ALL-UNNAMED --add-opens=java.base/sun.security.action=ALL-UNNAMED --add-opens=java.base/sun.util.calendar=ALL-UNNAMED --add-opens=java.security.jgss/sun.security.krb5=ALL-UNNAMED -Djdk.reflect.useDirectMethodHandle=false'),\n",
       " ('spark.app.name', 'assignment_day6'),\n",
       " ('spark.app.startTime', '1726181754080'),\n",
       " ('spark.driver.host', 'ADV-67622-6B2A.hq.bni.co.id'),\n",
       " ('spark.executor.id', 'driver'),\n",
       " ('spark.app.submitTime', '1726181753876'),\n",
       " ('spark.rdd.compress', 'True'),\n",
       " ('spark.executor.extraJavaOptions',\n",
       "  '-Djava.net.preferIPv6Addresses=false -XX:+IgnoreUnrecognizedVMOptions --add-opens=java.base/java.lang=ALL-UNNAMED --add-opens=java.base/java.lang.invoke=ALL-UNNAMED --add-opens=java.base/java.lang.reflect=ALL-UNNAMED --add-opens=java.base/java.io=ALL-UNNAMED --add-opens=java.base/java.net=ALL-UNNAMED --add-opens=java.base/java.nio=ALL-UNNAMED --add-opens=java.base/java.util=ALL-UNNAMED --add-opens=java.base/java.util.concurrent=ALL-UNNAMED --add-opens=java.base/java.util.concurrent.atomic=ALL-UNNAMED --add-opens=java.base/jdk.internal.ref=ALL-UNNAMED --add-opens=java.base/sun.nio.ch=ALL-UNNAMED --add-opens=java.base/sun.nio.cs=ALL-UNNAMED --add-opens=java.base/sun.security.action=ALL-UNNAMED --add-opens=java.base/sun.util.calendar=ALL-UNNAMED --add-opens=java.security.jgss/sun.security.krb5=ALL-UNNAMED -Djdk.reflect.useDirectMethodHandle=false'),\n",
       " ('spark.serializer.objectStreamReset', '100'),\n",
       " ('spark.master', 'local[*]'),\n",
       " ('spark.driver.port', '54486'),\n",
       " ('spark.submit.pyFiles', ''),\n",
       " ('spark.submit.deployMode', 'client'),\n",
       " ('spark.app.id', 'local-1726181755765'),\n",
       " ('spark.ui.showConsoleProgress', 'true'),\n",
       " ('spark.sql.warehouse.dir',\n",
       "  'file:/C:/Users/67622/Documents/Refreshment%20Class/Tugas/assignment%20day%206/spark-warehouse')]"
      ]
     },
     "execution_count": 60,
     "metadata": {},
     "output_type": "execute_result"
    }
   ],
   "source": [
    "# Melihat semua konfigurasi pada spark\n",
    "\n",
    "sc.getConf().getAll()"
   ]
  },
  {
   "cell_type": "code",
   "execution_count": 61,
   "id": "8177d83c-4df3-4512-be44-cd8b7b8575ec",
   "metadata": {},
   "outputs": [
    {
     "name": "stdout",
     "output_type": "stream",
     "text": [
      "    product_id product_name  qty  price\n",
      "0            3          leo    2   7000\n",
      "1            1   leminerale    3   5000\n",
      "2            2  frenchfries    1  15000\n",
      "3            1   nutriboost    2   7000\n",
      "4            1       mizone    1   7500\n",
      "5            3      potabee    4   8900\n",
      "6            4   cheesecake    5   9000\n",
      "7            3       twisko    2   4500\n",
      "8            5      indomie    5   3000\n",
      "9            1         aqua    2   5000\n",
      "10           5      lafonte    2   6000\n",
      "11           1     indomilk    4   6200\n",
      "12           5       sarden    1  13000\n",
      "13           2        sosis    3  18000\n",
      "14           4       paroti    4  16000\n",
      "15           3      chitato    3   8000\n",
      "16           2       nugget    2  20000\n",
      "Number of partitions: 12\n"
     ]
    }
   ],
   "source": [
    "# Create dataframe rdd\n",
    "baris = [\n",
    "[3,'leo',\t2,\t7000],\n",
    "[1,'leminerale',\t3,\t5000],\n",
    "[2,'frenchfries',1,\t15000],\n",
    "[1,'nutriboost',\t2,\t7000],\n",
    "[1,'mizone',\t1,\t7500],\n",
    "[3,'potabee',\t4,\t8900],\n",
    "[4,'cheesecake',\t5,\t9000],\n",
    "[3,'twisko',\t2,\t4500],\n",
    "[5,'indomie',\t5,\t3000],\n",
    "[1,'aqua',\t2,\t5000],\n",
    "[5,'lafonte',\t2,\t6000],\n",
    "[1,'indomilk',\t4,\t6200],\n",
    "[5,'sarden',\t1,\t13000],\n",
    "[2,'sosis',\t3,\t18000],\n",
    "[4,'paroti',\t4,\t16000],\n",
    "[3,'chitato',\t3,\t8000],\n",
    "[2,'nugget',\t2,\t20000] ]\n",
    "\n",
    "kolom = ['product_id', 'product_name', 'qty', 'price']\n",
    "data = pd.DataFrame(baris, columns=kolom)\n",
    "print(data)\n",
    "\n",
    "# Create RDD\n",
    "rdd = sc.parallelize(data.itertuples(index=False, name=None))\n",
    "\n",
    "# Menampilkan jumlah partisi\n",
    "print(\"Number of partitions:\", rdd.getNumPartitions())\n",
    "\n"
   ]
  },
  {
   "cell_type": "code",
   "execution_count": 62,
   "id": "529b8df9-f832-4f7c-9cc4-20649bb53bba",
   "metadata": {},
   "outputs": [
    {
     "data": {
      "text/plain": [
       "ParallelCollectionRDD[14] at readRDDFromFile at PythonRDD.scala:289"
      ]
     },
     "execution_count": 62,
     "metadata": {},
     "output_type": "execute_result"
    }
   ],
   "source": [
    "rdd"
   ]
  },
  {
   "cell_type": "code",
   "execution_count": 63,
   "id": "af4908c3-77ad-4fcc-b5e2-28fb68e4243c",
   "metadata": {},
   "outputs": [
    {
     "data": {
      "text/plain": [
       "22"
      ]
     },
     "execution_count": 63,
     "metadata": {},
     "output_type": "execute_result"
    }
   ],
   "source": [
    "# Mengubah jumlah partisi agar optimasi lebih lancar\n",
    "new_rdd = rdd.repartition(22)\n",
    "new_rdd.getNumPartitions()"
   ]
  },
  {
   "cell_type": "code",
   "execution_count": 64,
   "id": "cde4690a-b103-4fbe-bdbf-20fd1966a205",
   "metadata": {},
   "outputs": [
    {
     "data": {
      "text/plain": [
       "1"
      ]
     },
     "execution_count": 64,
     "metadata": {},
     "output_type": "execute_result"
    }
   ],
   "source": [
    "newer_rdd = new_rdd.repartition(1)\n",
    "newer_rdd.getNumPartitions()"
   ]
  },
  {
   "cell_type": "code",
   "execution_count": 65,
   "id": "b35b4a4e-f129-473f-9e2d-7a3a0fd55f59",
   "metadata": {},
   "outputs": [
    {
     "data": {
      "text/plain": [
       "b'(1) MapPartitionsRDD[23] at coalesce at NativeMethodAccessorImpl.java:0 []\\n |  CoalescedRDD[22] at coalesce at NativeMethodAccessorImpl.java:0 []\\n |  ShuffledRDD[21] at coalesce at NativeMethodAccessorImpl.java:0 []\\n +-(22) MapPartitionsRDD[20] at coalesce at NativeMethodAccessorImpl.java:0 []\\n    |   MapPartitionsRDD[19] at coalesce at NativeMethodAccessorImpl.java:0 []\\n    |   CoalescedRDD[18] at coalesce at NativeMethodAccessorImpl.java:0 []\\n    |   ShuffledRDD[17] at coalesce at NativeMethodAccessorImpl.java:0 []\\n    +-(12) MapPartitionsRDD[16] at coalesce at NativeMethodAccessorImpl.java:0 []\\n       |   PythonRDD[15] at RDD at PythonRDD.scala:53 []\\n       |   ParallelCollectionRDD[14] at readRDDFromFile at PythonRDD.scala:289 []'"
      ]
     },
     "execution_count": 65,
     "metadata": {},
     "output_type": "execute_result"
    }
   ],
   "source": [
    "# Mendapatkan debug string\n",
    "newer_rdd.toDebugString()"
   ]
  },
  {
   "cell_type": "markdown",
   "id": "f4e35dbd",
   "metadata": {},
   "source": [
    "### Aggregation, Transformation, Join"
   ]
  },
  {
   "cell_type": "code",
   "execution_count": 66,
   "id": "025d2124",
   "metadata": {},
   "outputs": [],
   "source": [
    "# Meng-kalikan qty dan price\n",
    "total_price_per_product = (\n",
    "    rdd.map(lambda x: (x[0], x[1], x[2] * x[3])) # product_id, product_name, qty * price\n",
    "    #.reduceByKey(lambda a, b: a + b) --> akan eror, karna product_name ada banyak & tidak bisa digabungkan\n",
    ")"
   ]
  },
  {
   "cell_type": "code",
   "execution_count": 67,
   "id": "f8026adc-ffdb-476d-b43b-da277f6dbfe0",
   "metadata": {},
   "outputs": [
    {
     "name": "stdout",
     "output_type": "stream",
     "text": [
      "Total price per product_name:\n"
     ]
    },
    {
     "data": {
      "text/plain": [
       "[(3, 'leo', 14000),\n",
       " (1, 'leminerale', 15000),\n",
       " (2, 'frenchfries', 15000),\n",
       " (1, 'nutriboost', 14000),\n",
       " (1, 'mizone', 7500),\n",
       " (3, 'potabee', 35600),\n",
       " (4, 'cheesecake', 45000),\n",
       " (3, 'twisko', 9000),\n",
       " (5, 'indomie', 15000),\n",
       " (1, 'aqua', 10000),\n",
       " (5, 'lafonte', 12000),\n",
       " (1, 'indomilk', 24800),\n",
       " (5, 'sarden', 13000),\n",
       " (2, 'sosis', 54000),\n",
       " (4, 'paroti', 64000),\n",
       " (3, 'chitato', 24000),\n",
       " (2, 'nugget', 40000)]"
      ]
     },
     "execution_count": 67,
     "metadata": {},
     "output_type": "execute_result"
    }
   ],
   "source": [
    "# Collect untuk mengambil seluruh data dari RDD\n",
    "result_total_price = total_price_per_product.collect()\n",
    "\n",
    "print(\"Total price per product_name:\")\n",
    "result_total_price"
   ]
  },
  {
   "cell_type": "code",
   "execution_count": 68,
   "id": "ea1e9793",
   "metadata": {},
   "outputs": [
    {
     "name": "stdout",
     "output_type": "stream",
     "text": [
      "<class 'pyspark.rdd.RDD'>\n",
      "<class 'pyspark.rdd.RDD'>\n"
     ]
    }
   ],
   "source": [
    "# Buat RDD untuk aggregate join\n",
    "\n",
    "# Mengambil hanya kolom 1 dan 2 (product_id dan product_name)\n",
    "rdd_result_total_price = sc.parallelize([(hasil[0], hasil[2]) for hasil in result_total_price])\n",
    "print(type(rdd_result_total_price))\n",
    "\n",
    "rdd_category = sc.parallelize ([(1,'water'),\n",
    "(2,'frozenfood'),\n",
    "(3,'snack'),\n",
    "(4,'bread'),\n",
    "(5,'instantfood')])\n",
    "print(type(rdd_category))"
   ]
  },
  {
   "cell_type": "code",
   "execution_count": 69,
   "id": "42747ee2",
   "metadata": {},
   "outputs": [
    {
     "name": "stdout",
     "output_type": "stream",
     "text": [
      "Total Sales per Category Name :\n",
      "[('bread', 109000), ('instantfood', 40000), ('water', 71300), ('frozenfood', 109000), ('snack', 82600)]\n"
     ]
    }
   ],
   "source": [
    "print('Total Sales per Category Name :')\n",
    "\n",
    "result = (rdd_result_total_price\n",
    " .join(rdd_category)\n",
    " .map(lambda x: (x[1][1], x[1][0]))\n",
    " .reduceByKey(lambda x, y: x + y)\n",
    " .collect()\n",
    ")\n",
    "\n",
    "print(result)\n"
   ]
  },
  {
   "cell_type": "code",
   "execution_count": null,
   "id": "d39760d9",
   "metadata": {},
   "outputs": [],
   "source": []
  },
  {
   "cell_type": "code",
   "execution_count": null,
   "id": "d4ab9730",
   "metadata": {},
   "outputs": [],
   "source": []
  },
  {
   "cell_type": "markdown",
   "id": "548886ef",
   "metadata": {},
   "source": [
    "## SQL"
   ]
  },
  {
   "cell_type": "code",
   "execution_count": 70,
   "id": "6f35fd6d",
   "metadata": {},
   "outputs": [],
   "source": [
    "from pyspark.sql.types import StringType, IntegerType, StructField, StructType\n",
    "\n",
    "# Register the DataFrame as a temporary table/view\n",
    "schema = StructType([\n",
    "    StructField(\"product_id\", IntegerType(), True),\n",
    "    StructField(\"product_name\", StringType(), True),\n",
    "    StructField(\"qty\", IntegerType(), True),\n",
    "    StructField(\"price\", IntegerType(), True)\n",
    "])\n",
    "\n",
    "# Create value for table\n",
    "baris = [\n",
    "[3,'leo',\t2,\t7000],\n",
    "[1,'leminerale',\t3,\t5000],\n",
    "[2,'frenchfries',1,\t15000],\n",
    "[1,'nutriboost',\t2,\t7000],\n",
    "[1,'mizone',\t1,\t7500],\n",
    "[3,'potabee',\t4,\t8900],\n",
    "[4,'cheesecake',\t5,\t9000],\n",
    "[3,'twisko',\t2,\t4500],\n",
    "[5,'indomie',\t5,\t3000],\n",
    "[1,'aqua',\t2,\t5000],\n",
    "[5,'lafonte',\t2,\t6000],\n",
    "[1,'indomilk',\t4,\t6200],\n",
    "[5,'sarden',\t1,\t13000],\n",
    "[2,'sosis',\t3,\t18000],\n",
    "[4,'paroti',\t4,\t16000],\n",
    "[3,'chitato',\t3,\t8000],\n",
    "[2,'nugget',\t2,\t20000] ]\n",
    "\n",
    "df = spark.createDataFrame(data, schema = schema)\n",
    "df.createOrReplaceTempView(\"sales_report\")\n"
   ]
  },
  {
   "cell_type": "code",
   "execution_count": 71,
   "id": "3596ada8",
   "metadata": {},
   "outputs": [
    {
     "name": "stdout",
     "output_type": "stream",
     "text": [
      "+----------+------------+---+-----+----------------+\n",
      "|product_id|product_name|qty|price|product_category|\n",
      "+----------+------------+---+-----+----------------+\n",
      "|         3|         leo|  2| 7000|           snack|\n",
      "|         1|  leminerale|  3| 5000|           drink|\n",
      "|         2| frenchfries|  1|15000|     frozen_food|\n",
      "|         1|  nutriboost|  2| 7000|           drink|\n",
      "|         1|      mizone|  1| 7500|           drink|\n",
      "|         3|     potabee|  4| 8900|           snack|\n",
      "|         4|  cheesecake|  5| 9000|           bread|\n",
      "|         3|      twisko|  2| 4500|           snack|\n",
      "|         5|     indomie|  5| 3000|    instant_food|\n",
      "|         1|        aqua|  2| 5000|           drink|\n",
      "|         5|     lafonte|  2| 6000|    instant_food|\n",
      "|         1|    indomilk|  4| 6200|           drink|\n",
      "|         5|      sarden|  1|13000|    instant_food|\n",
      "|         2|       sosis|  3|18000|     frozen_food|\n",
      "|         4|      paroti|  4|16000|           bread|\n",
      "|         3|     chitato|  3| 8000|           snack|\n",
      "|         2|      nugget|  2|20000|     frozen_food|\n",
      "+----------+------------+---+-----+----------------+\n",
      "\n"
     ]
    }
   ],
   "source": [
    "# Beri label pada tiap product_name berdasarkan product_id\n",
    "spark.sql(\n",
    "    \"\"\"\n",
    "    Select *,\n",
    "    case when (product_id = 1) then 'drink'\n",
    "        when (product_id = 2) then 'frozen_food'\n",
    "        when (product_id = 3) then 'snack'\n",
    "        when (product_id = 4) then 'bread'\n",
    "        else 'instant_food'\n",
    "    end as product_category\n",
    "    from sales_report\n",
    "    \"\"\"\n",
    ").show()"
   ]
  },
  {
   "cell_type": "code",
   "execution_count": 72,
   "id": "33678d21",
   "metadata": {},
   "outputs": [
    {
     "name": "stdout",
     "output_type": "stream",
     "text": [
      "+----------------+-----+\n",
      "|product_category|total|\n",
      "+----------------+-----+\n",
      "|    instant_food|40000|\n",
      "+----------------+-----+\n",
      "\n"
     ]
    }
   ],
   "source": [
    "# Product_category dengan penjualan paling sedikit berdasarkan total_price\n",
    "spark.sql(\n",
    "    \"\"\"\n",
    "    with tmp as\n",
    "    ( Select *,\n",
    "    case when (product_id = 1) then 'drink'\n",
    "        when (product_id = 2) then 'frozen_food'\n",
    "        when (product_id = 3) then 'snack'\n",
    "        when (product_id = 4) then 'bread'\n",
    "        else 'instant_food'\n",
    "    end as product_category,\n",
    "    qty*price as total_price\n",
    "    from sales_report )\n",
    "    select product_category, sum(total_price) as total\n",
    "    from tmp\n",
    "    group by product_category\n",
    "    order by total asc\n",
    "    limit 1\n",
    "   \"\"\"\n",
    ").show()"
   ]
  },
  {
   "cell_type": "code",
   "execution_count": null,
   "id": "fd38a5e0",
   "metadata": {},
   "outputs": [],
   "source": []
  },
  {
   "cell_type": "code",
   "execution_count": null,
   "id": "66322cc0",
   "metadata": {},
   "outputs": [],
   "source": []
  },
  {
   "cell_type": "markdown",
   "id": "22d6d5ea-6520-40f4-b764-084ad230d439",
   "metadata": {},
   "source": [
    "## Data Frame (SparkSession)"
   ]
  },
  {
   "cell_type": "code",
   "execution_count": 73,
   "id": "b291b626",
   "metadata": {},
   "outputs": [
    {
     "name": "stderr",
     "output_type": "stream",
     "text": [
      "The syntax of the command is incorrect.\n",
      "'cp' is not recognized as an internal or external command,\n",
      "operable program or batch file.\n"
     ]
    }
   ],
   "source": [
    "# Buat direktori kaggle\n",
    "\n",
    "!mkdir -p ~/.kaggle\n",
    "!cp kaggle.json ~/.kaggle/"
   ]
  },
  {
   "cell_type": "code",
   "execution_count": 74,
   "id": "9a7e05f9",
   "metadata": {},
   "outputs": [
    {
     "name": "stdout",
     "output_type": "stream",
     "text": [
      "Dataset URL: https://www.kaggle.com/datasets/thedevastator/unlock-profits-with-e-commerce-sales-data\n",
      "License(s): other\n",
      "Downloading unlock-profits-with-e-commerce-sales-data.zip to c:\\Users\\67622\\Documents\\Refreshment Class\\Tugas\\assignment day 6\n",
      "\n"
     ]
    },
    {
     "name": "stderr",
     "output_type": "stream",
     "text": [
      "\n",
      "  0%|          | 0.00/6.33M [00:00<?, ?B/s]\n",
      " 16%|█▌        | 1.00M/6.33M [00:00<00:04, 1.34MB/s]\n",
      " 32%|███▏      | 2.00M/6.33M [00:00<00:01, 2.43MB/s]\n",
      " 47%|████▋     | 3.00M/6.33M [00:01<00:01, 3.05MB/s]\n",
      " 79%|███████▉  | 5.00M/6.33M [00:01<00:00, 4.83MB/s]\n",
      " 95%|█████████▍| 6.00M/6.33M [00:01<00:00, 5.21MB/s]\n",
      "100%|██████████| 6.33M/6.33M [00:01<00:00, 4.05MB/s]\n"
     ]
    }
   ],
   "source": [
    "# download dataset dari kaggle\n",
    "\n",
    "!kaggle datasets download -d thedevastator/unlock-profits-with-e-commerce-sales-data"
   ]
  },
  {
   "cell_type": "code",
   "execution_count": 75,
   "id": "adb9905f",
   "metadata": {},
   "outputs": [],
   "source": [
    "import zipfile\n",
    "import os\n",
    "\n",
    "# Path ke file ZIP dan file CSV di dalam ZIP\n",
    "zip_path = 'unlock-profits-with-e-commerce-sales-data.zip'\n",
    "csv_filename = 'Amazon Sale Report.csv'\n",
    "extract_dir = 'extracted_files'\n",
    "\n",
    "# Ekstrak file CSV dari file ZIP\n",
    "with zipfile.ZipFile(zip_path, 'r') as zip_ref:\n",
    "    zip_ref.extract(csv_filename, extract_dir)\n"
   ]
  },
  {
   "cell_type": "code",
   "execution_count": 76,
   "id": "2bd229cd",
   "metadata": {},
   "outputs": [
    {
     "name": "stdout",
     "output_type": "stream",
     "text": [
      "+-----+-------------------+--------+--------------------+----------+--------------+------------------+-------+---------------+-------------+----+----------+--------------+---+--------+------+-----------+-----------+----------------+------------+--------------------+-----+------------+-----------+\n",
      "|index|           Order ID|    Date|              Status|Fulfilment|Sales Channel |ship-service-level|  Style|            SKU|     Category|Size|      ASIN|Courier Status|Qty|currency|Amount|  ship-city| ship-state|ship-postal-code|ship-country|       promotion-ids|  B2B|fulfilled-by|Unnamed: 22|\n",
      "+-----+-------------------+--------+--------------------+----------+--------------+------------------+-------+---------------+-------------+----+----------+--------------+---+--------+------+-----------+-----------+----------------+------------+--------------------+-----+------------+-----------+\n",
      "|    0|405-8078784-5731545|04-30-22|           Cancelled|  Merchant|     Amazon.in|          Standard| SET389| SET389-KR-NP-S|          Set|   S|B09KXVBD7Z|          NULL|  0|     INR|647.62|     MUMBAI|MAHARASHTRA|        400081.0|          IN|                NULL|false|   Easy Ship|       NULL|\n",
      "|    1|171-9198151-1101146|04-30-22|Shipped - Deliver...|  Merchant|     Amazon.in|          Standard|JNE3781|JNE3781-KR-XXXL|        kurta| 3XL|B09K3WFS32|       Shipped|  1|     INR| 406.0|  BENGALURU|  KARNATAKA|        560085.0|          IN|Amazon PLCC Free-...|false|   Easy Ship|       NULL|\n",
      "|    2|404-0687676-7273146|04-30-22|             Shipped|    Amazon|     Amazon.in|         Expedited|JNE3371|  JNE3371-KR-XL|        kurta|  XL|B07WV4JV4D|       Shipped|  1|     INR| 329.0|NAVI MUMBAI|MAHARASHTRA|        410210.0|          IN|IN Core Free Ship...| true|        NULL|       NULL|\n",
      "|    3|403-9615377-8133951|04-30-22|           Cancelled|  Merchant|     Amazon.in|          Standard|  J0341|     J0341-DR-L|Western Dress|   L|B099NRCT7B|          NULL|  0|     INR|753.33| PUDUCHERRY| PUDUCHERRY|        605008.0|          IN|                NULL|false|   Easy Ship|       NULL|\n",
      "|    4|407-1069790-7240320|04-30-22|             Shipped|    Amazon|     Amazon.in|         Expedited|JNE3671|JNE3671-TU-XXXL|          Top| 3XL|B098714BZP|       Shipped|  1|     INR| 574.0|    CHENNAI| TAMIL NADU|        600073.0|          IN|                NULL|false|        NULL|       NULL|\n",
      "+-----+-------------------+--------+--------------------+----------+--------------+------------------+-------+---------------+-------------+----+----------+--------------+---+--------+------+-----------+-----------+----------------+------------+--------------------+-----+------------+-----------+\n",
      "only showing top 5 rows\n",
      "\n"
     ]
    }
   ],
   "source": [
    "from pyspark.sql import SparkSession\n",
    "\n",
    "# Membuat SparkSession\n",
    "spark = SparkSession.builder.appName('assignment_day6_df').getOrCreate()\n",
    "\n",
    "# Path ke file CSV yang diekstrak\n",
    "csv_path = os.path.join(extract_dir, csv_filename)\n",
    "\n",
    "# Membaca file CSV menggunakan PySpark\n",
    "df = (spark.read\n",
    "      .option('header', 'true')  # First row as Header\n",
    "      .option('inferschema', 'true')  # Automatic type of data\n",
    "      .csv(csv_path)  # Path ke file CSV yang diekstrak\n",
    ")\n",
    "\n",
    "# Tampilkan 5 baris pertama dari DataFrame\n",
    "df.show(5)\n"
   ]
  },
  {
   "cell_type": "code",
   "execution_count": 77,
   "id": "f437bcf2",
   "metadata": {},
   "outputs": [
    {
     "name": "stdout",
     "output_type": "stream",
     "text": [
      "+--------+----------+-------------+----+---+------+-----------+--------------------+\n",
      "|    Date|fulfilment|     category|size|qty|amount|  ship-city|              status|\n",
      "+--------+----------+-------------+----+---+------+-----------+--------------------+\n",
      "|04-30-22|  Merchant|          Set|   S|  0|647.62|     MUMBAI|           Cancelled|\n",
      "|04-30-22|  Merchant|        kurta| 3XL|  1| 406.0|  BENGALURU|Shipped - Deliver...|\n",
      "|04-30-22|    Amazon|        kurta|  XL|  1| 329.0|NAVI MUMBAI|             Shipped|\n",
      "|04-30-22|  Merchant|Western Dress|   L|  0|753.33| PUDUCHERRY|           Cancelled|\n",
      "|04-30-22|    Amazon|          Top| 3XL|  1| 574.0|    CHENNAI|             Shipped|\n",
      "+--------+----------+-------------+----+---+------+-----------+--------------------+\n",
      "only showing top 5 rows\n",
      "\n"
     ]
    }
   ],
   "source": [
    "# Selecting Columns/ features\n",
    "df_feature = df.select('Date', 'fulfilment', 'category', 'size',\n",
    "         'qty', 'amount', 'ship-city', 'status')\n",
    "df_feature.show(5)"
   ]
  },
  {
   "cell_type": "markdown",
   "id": "14bfd2b6",
   "metadata": {},
   "source": [
    "### Filtering, Sorting, Group by, Agregat"
   ]
  },
  {
   "cell_type": "code",
   "execution_count": 79,
   "id": "9fb584f9",
   "metadata": {},
   "outputs": [
    {
     "name": "stdout",
     "output_type": "stream",
     "text": [
      "+--------+----------+-------------+----+---+-------+-----------+---------+\n",
      "|    Date|fulfilment|     category|size|qty| amount|  ship-city|   status|\n",
      "+--------+----------+-------------+----+---+-------+-----------+---------+\n",
      "|04-16-22|  Merchant|          Set|   M|  0|4235.72|     Jaipur|Cancelled|\n",
      "|05-10-22|    Amazon|          Set| XXL|  2| 2676.0|    CHENNAI|Cancelled|\n",
      "|06-25-22|  Merchant|          Set| XXL|  0|2389.28|DEVARAKONDA|Cancelled|\n",
      "|06-09-22|  Merchant|          Set|   S|  0|2319.64|   TIRUPATI|Cancelled|\n",
      "|05-02-22|  Merchant|Western Dress|   L|  0|2259.99|      NOIDA|Cancelled|\n",
      "|04-20-22|    Amazon|          Set|   M|  2| 2224.0|      HISAR|Cancelled|\n",
      "|04-30-22|  Merchant|          Set|   L|  0|1902.86|     HARDOI|Cancelled|\n",
      "|05-13-22|    Amazon|          Set|  XS|  2| 1708.0|     NADIAD|Cancelled|\n",
      "|06-04-22|    Amazon|          Set| 3XL|  1| 1698.0|    CUTTACK|Cancelled|\n",
      "|06-03-22|    Amazon|          Set|  XL|  1| 1695.0|  PRAYAGRAJ|Cancelled|\n",
      "+--------+----------+-------------+----+---+-------+-----------+---------+\n",
      "only showing top 10 rows\n",
      "\n",
      "Dari Filtering ini diketahui bahwa status Cancelled dapat membatalkan penerimaan max 4.235 INR/ sekali transaksi. Dengan Cancel terbanyak yaitu Category Set\n"
     ]
    }
   ],
   "source": [
    "from pyspark.sql.functions import col\n",
    "\n",
    "# Filtering, Sorting\n",
    "filter_df = df_feature.where(col('status') == 'Cancelled')\n",
    "filter_df.orderBy(col('Amount').desc()).show(10)\n",
    "\n",
    "print (\"Dari Filtering ini diketahui bahwa status Cancelled dapat membatalkan penerimaan max 4.235 INR/ sekali transaksi. Dengan Cancel terbanyak yaitu Category Set\")"
   ]
  },
  {
   "cell_type": "code",
   "execution_count": 80,
   "id": "8f87c53c",
   "metadata": {},
   "outputs": [
    {
     "name": "stdout",
     "output_type": "stream",
     "text": [
      "+-------------+------------+---------+\n",
      "|     Category|total_amount|total_qty|\n",
      "+-------------+------------+---------+\n",
      "|          Set| 3.5731673E7|    43033|\n",
      "|        kurta|  1.942587E7|    42792|\n",
      "|Western Dress|  1.020959E7|    13418|\n",
      "|          Top|   4904066.0|     9368|\n",
      "| Ethnic Dress|    732744.0|     1016|\n",
      "|       Blouse|    418389.0|      831|\n",
      "|       Bottom|    135453.0|      384|\n",
      "|        Saree|    114694.0|      147|\n",
      "|      Dupatta|       915.0|        3|\n",
      "+-------------+------------+---------+\n",
      "\n",
      "Penjualan paling banyak Set dan Kurta dengan total_qty mencapai 43rb\n"
     ]
    }
   ],
   "source": [
    "# Group by, Aggregat\n",
    "\n",
    "# Mengecualikan penjualan dengan status 'Cancelled' atau terbatalkan\n",
    "cancel_filter = df_feature.filter(col('status') != 'Cancelled')\n",
    "\n",
    "# Group by penjualan berdasar kategori\n",
    "group_df = cancel_filter.groupBy('Category').agg({'amount':'sum', 'qty':'sum'})\n",
    "group_df = group_df.withColumnRenamed('sum(amount)', 'total_amount').withColumnRenamed('sum(qty)', 'total_qty')\n",
    "group_df.orderBy(col('total_amount').desc()).show()\n",
    "\n",
    "print('Penjualan paling banyak Set dan Kurta dengan total_qty mencapai 43rb')"
   ]
  },
  {
   "cell_type": "markdown",
   "id": "b2aba49c",
   "metadata": {},
   "source": [
    "### _______________________________ VISUALIZATION ___________________________________"
   ]
  },
  {
   "cell_type": "code",
   "execution_count": 81,
   "id": "84b7c691",
   "metadata": {},
   "outputs": [
    {
     "name": "stdout",
     "output_type": "stream",
     "text": [
      "+--------+----------+-------------+----+---+------+-----------+--------------------+------------------+\n",
      "|    Date|fulfilment|     category|size|qty|amount|  ship-city|              status|ship-service-level|\n",
      "+--------+----------+-------------+----+---+------+-----------+--------------------+------------------+\n",
      "|04-30-22|  Merchant|          Set|   S|  0|647.62|     MUMBAI|           Cancelled|          Standard|\n",
      "|04-30-22|  Merchant|        kurta| 3XL|  1| 406.0|  BENGALURU|Shipped - Deliver...|          Standard|\n",
      "|04-30-22|    Amazon|        kurta|  XL|  1| 329.0|NAVI MUMBAI|             Shipped|         Expedited|\n",
      "|04-30-22|  Merchant|Western Dress|   L|  0|753.33| PUDUCHERRY|           Cancelled|          Standard|\n",
      "|04-30-22|    Amazon|          Top| 3XL|  1| 574.0|    CHENNAI|             Shipped|         Expedited|\n",
      "+--------+----------+-------------+----+---+------+-----------+--------------------+------------------+\n",
      "only showing top 5 rows\n",
      "\n"
     ]
    }
   ],
   "source": [
    "# Selecting Columns/ features\n",
    "df_feature = df.select('Date', 'fulfilment', 'category', 'size',\n",
    "         'qty', 'amount', 'ship-city', 'status', 'ship-service-level')\n",
    "df_feature.show(5)"
   ]
  },
  {
   "cell_type": "code",
   "execution_count": 82,
   "id": "a24ab05f",
   "metadata": {},
   "outputs": [
    {
     "data": {
      "text/html": [
       "<div>\n",
       "<style scoped>\n",
       "    .dataframe tbody tr th:only-of-type {\n",
       "        vertical-align: middle;\n",
       "    }\n",
       "\n",
       "    .dataframe tbody tr th {\n",
       "        vertical-align: top;\n",
       "    }\n",
       "\n",
       "    .dataframe thead th {\n",
       "        text-align: right;\n",
       "    }\n",
       "</style>\n",
       "<table border=\"1\" class=\"dataframe\">\n",
       "  <thead>\n",
       "    <tr style=\"text-align: right;\">\n",
       "      <th></th>\n",
       "      <th>Date</th>\n",
       "      <th>fulfilment</th>\n",
       "      <th>category</th>\n",
       "      <th>size</th>\n",
       "      <th>qty</th>\n",
       "      <th>amount</th>\n",
       "      <th>ship-city</th>\n",
       "      <th>status</th>\n",
       "      <th>ship-service-level</th>\n",
       "    </tr>\n",
       "  </thead>\n",
       "  <tbody>\n",
       "    <tr>\n",
       "      <th>0</th>\n",
       "      <td>04-30-22</td>\n",
       "      <td>Merchant</td>\n",
       "      <td>Set</td>\n",
       "      <td>S</td>\n",
       "      <td>0</td>\n",
       "      <td>647.62</td>\n",
       "      <td>MUMBAI</td>\n",
       "      <td>Cancelled</td>\n",
       "      <td>Standard</td>\n",
       "    </tr>\n",
       "    <tr>\n",
       "      <th>1</th>\n",
       "      <td>04-30-22</td>\n",
       "      <td>Merchant</td>\n",
       "      <td>kurta</td>\n",
       "      <td>3XL</td>\n",
       "      <td>1</td>\n",
       "      <td>406.00</td>\n",
       "      <td>BENGALURU</td>\n",
       "      <td>Shipped - Delivered to Buyer</td>\n",
       "      <td>Standard</td>\n",
       "    </tr>\n",
       "    <tr>\n",
       "      <th>2</th>\n",
       "      <td>04-30-22</td>\n",
       "      <td>Amazon</td>\n",
       "      <td>kurta</td>\n",
       "      <td>XL</td>\n",
       "      <td>1</td>\n",
       "      <td>329.00</td>\n",
       "      <td>NAVI MUMBAI</td>\n",
       "      <td>Shipped</td>\n",
       "      <td>Expedited</td>\n",
       "    </tr>\n",
       "  </tbody>\n",
       "</table>\n",
       "</div>"
      ],
      "text/plain": [
       "       Date fulfilment category size  qty  amount    ship-city  \\\n",
       "0  04-30-22   Merchant      Set    S    0  647.62       MUMBAI   \n",
       "1  04-30-22   Merchant    kurta  3XL    1  406.00    BENGALURU   \n",
       "2  04-30-22     Amazon    kurta   XL    1  329.00  NAVI MUMBAI   \n",
       "\n",
       "                         status ship-service-level  \n",
       "0                     Cancelled           Standard  \n",
       "1  Shipped - Delivered to Buyer           Standard  \n",
       "2                       Shipped          Expedited  "
      ]
     },
     "execution_count": 82,
     "metadata": {},
     "output_type": "execute_result"
    }
   ],
   "source": [
    "# create data frame use pandas\n",
    "ds = (df_feature.toPandas())\n",
    "ds.head(3)"
   ]
  },
  {
   "cell_type": "code",
   "execution_count": 83,
   "id": "cab36c2e",
   "metadata": {},
   "outputs": [
    {
     "name": "stdout",
     "output_type": "stream",
     "text": [
      "<class 'pandas.core.frame.DataFrame'>\n",
      "RangeIndex: 128975 entries, 0 to 128974\n",
      "Data columns (total 9 columns):\n",
      " #   Column              Non-Null Count   Dtype  \n",
      "---  ------              --------------   -----  \n",
      " 0   Date                128975 non-null  object \n",
      " 1   fulfilment          128975 non-null  object \n",
      " 2   category            128975 non-null  object \n",
      " 3   size                128975 non-null  object \n",
      " 4   qty                 128975 non-null  int32  \n",
      " 5   amount              121180 non-null  float64\n",
      " 6   ship-city           128942 non-null  object \n",
      " 7   status              128975 non-null  object \n",
      " 8   ship-service-level  128975 non-null  object \n",
      "dtypes: float64(1), int32(1), object(7)\n",
      "memory usage: 8.4+ MB\n"
     ]
    }
   ],
   "source": [
    "# Check tipe data\n",
    "ds.info()"
   ]
  },
  {
   "cell_type": "code",
   "execution_count": 84,
   "id": "9796b4ad",
   "metadata": {},
   "outputs": [
    {
     "name": "stderr",
     "output_type": "stream",
     "text": [
      "C:\\Users\\67622\\AppData\\Local\\Temp\\ipykernel_23072\\1618117319.py:2: UserWarning: Could not infer format, so each element will be parsed individually, falling back to `dateutil`. To ensure parsing is consistent and as-expected, please specify a format.\n",
      "  ds['Date'] = pd.to_datetime(ds['Date'])\n"
     ]
    }
   ],
   "source": [
    "# Ubah tipe kolom Date menjadi datetime\n",
    "ds['Date'] = pd.to_datetime(ds['Date'])"
   ]
  },
  {
   "cell_type": "code",
   "execution_count": 85,
   "id": "036dfd8d",
   "metadata": {},
   "outputs": [
    {
     "name": "stdout",
     "output_type": "stream",
     "text": [
      "Total Duplikat : 4545\n",
      "\n",
      "Total Kolom kosong : \n",
      "Date                     0\n",
      "fulfilment               0\n",
      "category                 0\n",
      "size                     0\n",
      "qty                      0\n",
      "amount                7795\n",
      "ship-city               33\n",
      "status                   0\n",
      "ship-service-level       0\n",
      "dtype: int64\n"
     ]
    }
   ],
   "source": [
    "# Check missing value & duplicated data\n",
    "print(f'Total Duplikat : {ds.duplicated().sum()}')\n",
    "print(f'\\nTotal Kolom kosong : \\n{ds.isnull().sum()}')"
   ]
  },
  {
   "cell_type": "code",
   "execution_count": 86,
   "id": "f6dca61f",
   "metadata": {},
   "outputs": [
    {
     "data": {
      "text/html": [
       "<div>\n",
       "<style scoped>\n",
       "    .dataframe tbody tr th:only-of-type {\n",
       "        vertical-align: middle;\n",
       "    }\n",
       "\n",
       "    .dataframe tbody tr th {\n",
       "        vertical-align: top;\n",
       "    }\n",
       "\n",
       "    .dataframe thead th {\n",
       "        text-align: right;\n",
       "    }\n",
       "</style>\n",
       "<table border=\"1\" class=\"dataframe\">\n",
       "  <thead>\n",
       "    <tr style=\"text-align: right;\">\n",
       "      <th></th>\n",
       "      <th>Date</th>\n",
       "      <th>fulfilment</th>\n",
       "      <th>category</th>\n",
       "      <th>size</th>\n",
       "      <th>qty</th>\n",
       "      <th>amount</th>\n",
       "      <th>ship-city</th>\n",
       "      <th>status</th>\n",
       "      <th>ship-service-level</th>\n",
       "    </tr>\n",
       "  </thead>\n",
       "  <tbody>\n",
       "    <tr>\n",
       "      <th>0</th>\n",
       "      <td>2022-04-30</td>\n",
       "      <td>Merchant</td>\n",
       "      <td>Set</td>\n",
       "      <td>S</td>\n",
       "      <td>0</td>\n",
       "      <td>647.62</td>\n",
       "      <td>MUMBAI</td>\n",
       "      <td>Cancelled</td>\n",
       "      <td>Standard</td>\n",
       "    </tr>\n",
       "    <tr>\n",
       "      <th>1</th>\n",
       "      <td>2022-04-30</td>\n",
       "      <td>Merchant</td>\n",
       "      <td>kurta</td>\n",
       "      <td>3XL</td>\n",
       "      <td>1</td>\n",
       "      <td>406.00</td>\n",
       "      <td>BENGALURU</td>\n",
       "      <td>Shipped - Delivered to Buyer</td>\n",
       "      <td>Standard</td>\n",
       "    </tr>\n",
       "    <tr>\n",
       "      <th>2</th>\n",
       "      <td>2022-04-30</td>\n",
       "      <td>Amazon</td>\n",
       "      <td>kurta</td>\n",
       "      <td>XL</td>\n",
       "      <td>1</td>\n",
       "      <td>329.00</td>\n",
       "      <td>NAVI MUMBAI</td>\n",
       "      <td>Shipped</td>\n",
       "      <td>Expedited</td>\n",
       "    </tr>\n",
       "    <tr>\n",
       "      <th>3</th>\n",
       "      <td>2022-04-30</td>\n",
       "      <td>Merchant</td>\n",
       "      <td>Western Dress</td>\n",
       "      <td>L</td>\n",
       "      <td>0</td>\n",
       "      <td>753.33</td>\n",
       "      <td>PUDUCHERRY</td>\n",
       "      <td>Cancelled</td>\n",
       "      <td>Standard</td>\n",
       "    </tr>\n",
       "    <tr>\n",
       "      <th>4</th>\n",
       "      <td>2022-04-30</td>\n",
       "      <td>Amazon</td>\n",
       "      <td>Top</td>\n",
       "      <td>3XL</td>\n",
       "      <td>1</td>\n",
       "      <td>574.00</td>\n",
       "      <td>CHENNAI</td>\n",
       "      <td>Shipped</td>\n",
       "      <td>Expedited</td>\n",
       "    </tr>\n",
       "    <tr>\n",
       "      <th>...</th>\n",
       "      <td>...</td>\n",
       "      <td>...</td>\n",
       "      <td>...</td>\n",
       "      <td>...</td>\n",
       "      <td>...</td>\n",
       "      <td>...</td>\n",
       "      <td>...</td>\n",
       "      <td>...</td>\n",
       "      <td>...</td>\n",
       "    </tr>\n",
       "    <tr>\n",
       "      <th>128970</th>\n",
       "      <td>2022-05-31</td>\n",
       "      <td>Amazon</td>\n",
       "      <td>kurta</td>\n",
       "      <td>XL</td>\n",
       "      <td>1</td>\n",
       "      <td>517.00</td>\n",
       "      <td>HYDERABAD</td>\n",
       "      <td>Shipped</td>\n",
       "      <td>Expedited</td>\n",
       "    </tr>\n",
       "    <tr>\n",
       "      <th>128971</th>\n",
       "      <td>2022-05-31</td>\n",
       "      <td>Amazon</td>\n",
       "      <td>Set</td>\n",
       "      <td>M</td>\n",
       "      <td>1</td>\n",
       "      <td>999.00</td>\n",
       "      <td>GURUGRAM</td>\n",
       "      <td>Shipped</td>\n",
       "      <td>Expedited</td>\n",
       "    </tr>\n",
       "    <tr>\n",
       "      <th>128972</th>\n",
       "      <td>2022-05-31</td>\n",
       "      <td>Amazon</td>\n",
       "      <td>Western Dress</td>\n",
       "      <td>XXL</td>\n",
       "      <td>1</td>\n",
       "      <td>690.00</td>\n",
       "      <td>HYDERABAD</td>\n",
       "      <td>Shipped</td>\n",
       "      <td>Expedited</td>\n",
       "    </tr>\n",
       "    <tr>\n",
       "      <th>128973</th>\n",
       "      <td>2022-05-31</td>\n",
       "      <td>Amazon</td>\n",
       "      <td>Set</td>\n",
       "      <td>XS</td>\n",
       "      <td>1</td>\n",
       "      <td>1199.00</td>\n",
       "      <td>Halol</td>\n",
       "      <td>Shipped</td>\n",
       "      <td>Expedited</td>\n",
       "    </tr>\n",
       "    <tr>\n",
       "      <th>128974</th>\n",
       "      <td>2022-05-31</td>\n",
       "      <td>Amazon</td>\n",
       "      <td>Set</td>\n",
       "      <td>S</td>\n",
       "      <td>1</td>\n",
       "      <td>696.00</td>\n",
       "      <td>Raipur</td>\n",
       "      <td>Shipped</td>\n",
       "      <td>Expedited</td>\n",
       "    </tr>\n",
       "  </tbody>\n",
       "</table>\n",
       "<p>124430 rows × 9 columns</p>\n",
       "</div>"
      ],
      "text/plain": [
       "             Date fulfilment       category size  qty   amount    ship-city  \\\n",
       "0      2022-04-30   Merchant            Set    S    0   647.62       MUMBAI   \n",
       "1      2022-04-30   Merchant          kurta  3XL    1   406.00    BENGALURU   \n",
       "2      2022-04-30     Amazon          kurta   XL    1   329.00  NAVI MUMBAI   \n",
       "3      2022-04-30   Merchant  Western Dress    L    0   753.33   PUDUCHERRY   \n",
       "4      2022-04-30     Amazon            Top  3XL    1   574.00      CHENNAI   \n",
       "...           ...        ...            ...  ...  ...      ...          ...   \n",
       "128970 2022-05-31     Amazon          kurta   XL    1   517.00    HYDERABAD   \n",
       "128971 2022-05-31     Amazon            Set    M    1   999.00     GURUGRAM   \n",
       "128972 2022-05-31     Amazon  Western Dress  XXL    1   690.00    HYDERABAD   \n",
       "128973 2022-05-31     Amazon            Set   XS    1  1199.00        Halol   \n",
       "128974 2022-05-31     Amazon            Set    S    1   696.00       Raipur   \n",
       "\n",
       "                              status ship-service-level  \n",
       "0                          Cancelled           Standard  \n",
       "1       Shipped - Delivered to Buyer           Standard  \n",
       "2                            Shipped          Expedited  \n",
       "3                          Cancelled           Standard  \n",
       "4                            Shipped          Expedited  \n",
       "...                              ...                ...  \n",
       "128970                       Shipped          Expedited  \n",
       "128971                       Shipped          Expedited  \n",
       "128972                       Shipped          Expedited  \n",
       "128973                       Shipped          Expedited  \n",
       "128974                       Shipped          Expedited  \n",
       "\n",
       "[124430 rows x 9 columns]"
      ]
     },
     "execution_count": 86,
     "metadata": {},
     "output_type": "execute_result"
    }
   ],
   "source": [
    "# Drop duplicated data\n",
    "\n",
    "ds.drop_duplicates()\n"
   ]
  },
  {
   "cell_type": "code",
   "execution_count": 87,
   "id": "03c44a10",
   "metadata": {},
   "outputs": [
    {
     "data": {
      "text/html": [
       "<div>\n",
       "<style scoped>\n",
       "    .dataframe tbody tr th:only-of-type {\n",
       "        vertical-align: middle;\n",
       "    }\n",
       "\n",
       "    .dataframe tbody tr th {\n",
       "        vertical-align: top;\n",
       "    }\n",
       "\n",
       "    .dataframe thead th {\n",
       "        text-align: right;\n",
       "    }\n",
       "</style>\n",
       "<table border=\"1\" class=\"dataframe\">\n",
       "  <thead>\n",
       "    <tr style=\"text-align: right;\">\n",
       "      <th></th>\n",
       "      <th>Date</th>\n",
       "      <th>fulfilment</th>\n",
       "      <th>category</th>\n",
       "      <th>size</th>\n",
       "      <th>qty</th>\n",
       "      <th>amount</th>\n",
       "      <th>ship-city</th>\n",
       "      <th>status</th>\n",
       "      <th>ship-service-level</th>\n",
       "    </tr>\n",
       "  </thead>\n",
       "  <tbody>\n",
       "    <tr>\n",
       "      <th>0</th>\n",
       "      <td>2022-04-30</td>\n",
       "      <td>Merchant</td>\n",
       "      <td>Set</td>\n",
       "      <td>S</td>\n",
       "      <td>0</td>\n",
       "      <td>647.62</td>\n",
       "      <td>MUMBAI</td>\n",
       "      <td>Cancelled</td>\n",
       "      <td>Standard</td>\n",
       "    </tr>\n",
       "    <tr>\n",
       "      <th>1</th>\n",
       "      <td>2022-04-30</td>\n",
       "      <td>Merchant</td>\n",
       "      <td>kurta</td>\n",
       "      <td>3XL</td>\n",
       "      <td>1</td>\n",
       "      <td>406.00</td>\n",
       "      <td>BENGALURU</td>\n",
       "      <td>Shipped - Delivered to Buyer</td>\n",
       "      <td>Standard</td>\n",
       "    </tr>\n",
       "    <tr>\n",
       "      <th>2</th>\n",
       "      <td>2022-04-30</td>\n",
       "      <td>Amazon</td>\n",
       "      <td>kurta</td>\n",
       "      <td>XL</td>\n",
       "      <td>1</td>\n",
       "      <td>329.00</td>\n",
       "      <td>NAVI MUMBAI</td>\n",
       "      <td>Shipped</td>\n",
       "      <td>Expedited</td>\n",
       "    </tr>\n",
       "    <tr>\n",
       "      <th>3</th>\n",
       "      <td>2022-04-30</td>\n",
       "      <td>Merchant</td>\n",
       "      <td>Western Dress</td>\n",
       "      <td>L</td>\n",
       "      <td>0</td>\n",
       "      <td>753.33</td>\n",
       "      <td>PUDUCHERRY</td>\n",
       "      <td>Cancelled</td>\n",
       "      <td>Standard</td>\n",
       "    </tr>\n",
       "    <tr>\n",
       "      <th>4</th>\n",
       "      <td>2022-04-30</td>\n",
       "      <td>Amazon</td>\n",
       "      <td>Top</td>\n",
       "      <td>3XL</td>\n",
       "      <td>1</td>\n",
       "      <td>574.00</td>\n",
       "      <td>CHENNAI</td>\n",
       "      <td>Shipped</td>\n",
       "      <td>Expedited</td>\n",
       "    </tr>\n",
       "    <tr>\n",
       "      <th>...</th>\n",
       "      <td>...</td>\n",
       "      <td>...</td>\n",
       "      <td>...</td>\n",
       "      <td>...</td>\n",
       "      <td>...</td>\n",
       "      <td>...</td>\n",
       "      <td>...</td>\n",
       "      <td>...</td>\n",
       "      <td>...</td>\n",
       "    </tr>\n",
       "    <tr>\n",
       "      <th>128970</th>\n",
       "      <td>2022-05-31</td>\n",
       "      <td>Amazon</td>\n",
       "      <td>kurta</td>\n",
       "      <td>XL</td>\n",
       "      <td>1</td>\n",
       "      <td>517.00</td>\n",
       "      <td>HYDERABAD</td>\n",
       "      <td>Shipped</td>\n",
       "      <td>Expedited</td>\n",
       "    </tr>\n",
       "    <tr>\n",
       "      <th>128971</th>\n",
       "      <td>2022-05-31</td>\n",
       "      <td>Amazon</td>\n",
       "      <td>Set</td>\n",
       "      <td>M</td>\n",
       "      <td>1</td>\n",
       "      <td>999.00</td>\n",
       "      <td>GURUGRAM</td>\n",
       "      <td>Shipped</td>\n",
       "      <td>Expedited</td>\n",
       "    </tr>\n",
       "    <tr>\n",
       "      <th>128972</th>\n",
       "      <td>2022-05-31</td>\n",
       "      <td>Amazon</td>\n",
       "      <td>Western Dress</td>\n",
       "      <td>XXL</td>\n",
       "      <td>1</td>\n",
       "      <td>690.00</td>\n",
       "      <td>HYDERABAD</td>\n",
       "      <td>Shipped</td>\n",
       "      <td>Expedited</td>\n",
       "    </tr>\n",
       "    <tr>\n",
       "      <th>128973</th>\n",
       "      <td>2022-05-31</td>\n",
       "      <td>Amazon</td>\n",
       "      <td>Set</td>\n",
       "      <td>XS</td>\n",
       "      <td>1</td>\n",
       "      <td>1199.00</td>\n",
       "      <td>Halol</td>\n",
       "      <td>Shipped</td>\n",
       "      <td>Expedited</td>\n",
       "    </tr>\n",
       "    <tr>\n",
       "      <th>128974</th>\n",
       "      <td>2022-05-31</td>\n",
       "      <td>Amazon</td>\n",
       "      <td>Set</td>\n",
       "      <td>S</td>\n",
       "      <td>1</td>\n",
       "      <td>696.00</td>\n",
       "      <td>Raipur</td>\n",
       "      <td>Shipped</td>\n",
       "      <td>Expedited</td>\n",
       "    </tr>\n",
       "  </tbody>\n",
       "</table>\n",
       "<p>121149 rows × 9 columns</p>\n",
       "</div>"
      ],
      "text/plain": [
       "             Date fulfilment       category size  qty   amount    ship-city  \\\n",
       "0      2022-04-30   Merchant            Set    S    0   647.62       MUMBAI   \n",
       "1      2022-04-30   Merchant          kurta  3XL    1   406.00    BENGALURU   \n",
       "2      2022-04-30     Amazon          kurta   XL    1   329.00  NAVI MUMBAI   \n",
       "3      2022-04-30   Merchant  Western Dress    L    0   753.33   PUDUCHERRY   \n",
       "4      2022-04-30     Amazon            Top  3XL    1   574.00      CHENNAI   \n",
       "...           ...        ...            ...  ...  ...      ...          ...   \n",
       "128970 2022-05-31     Amazon          kurta   XL    1   517.00    HYDERABAD   \n",
       "128971 2022-05-31     Amazon            Set    M    1   999.00     GURUGRAM   \n",
       "128972 2022-05-31     Amazon  Western Dress  XXL    1   690.00    HYDERABAD   \n",
       "128973 2022-05-31     Amazon            Set   XS    1  1199.00        Halol   \n",
       "128974 2022-05-31     Amazon            Set    S    1   696.00       Raipur   \n",
       "\n",
       "                              status ship-service-level  \n",
       "0                          Cancelled           Standard  \n",
       "1       Shipped - Delivered to Buyer           Standard  \n",
       "2                            Shipped          Expedited  \n",
       "3                          Cancelled           Standard  \n",
       "4                            Shipped          Expedited  \n",
       "...                              ...                ...  \n",
       "128970                       Shipped          Expedited  \n",
       "128971                       Shipped          Expedited  \n",
       "128972                       Shipped          Expedited  \n",
       "128973                       Shipped          Expedited  \n",
       "128974                       Shipped          Expedited  \n",
       "\n",
       "[121149 rows x 9 columns]"
      ]
     },
     "execution_count": 87,
     "metadata": {},
     "output_type": "execute_result"
    }
   ],
   "source": [
    "# Drop Missing value\n",
    "\n",
    "ds.dropna()"
   ]
  },
  {
   "cell_type": "code",
   "execution_count": 88,
   "id": "bd68a82d",
   "metadata": {},
   "outputs": [],
   "source": [
    "# Pisahkan kategori dan numeric kolom\n",
    "cats = ['fulfilment','category','size', 'ship-city','status','ship-service-level']\n",
    "nums = ['qty', 'amount']"
   ]
  },
  {
   "cell_type": "code",
   "execution_count": 89,
   "id": "c9f502fc",
   "metadata": {},
   "outputs": [
    {
     "data": {
      "text/html": [
       "<div>\n",
       "<style scoped>\n",
       "    .dataframe tbody tr th:only-of-type {\n",
       "        vertical-align: middle;\n",
       "    }\n",
       "\n",
       "    .dataframe tbody tr th {\n",
       "        vertical-align: top;\n",
       "    }\n",
       "\n",
       "    .dataframe thead th {\n",
       "        text-align: right;\n",
       "    }\n",
       "</style>\n",
       "<table border=\"1\" class=\"dataframe\">\n",
       "  <thead>\n",
       "    <tr style=\"text-align: right;\">\n",
       "      <th></th>\n",
       "      <th>fulfilment</th>\n",
       "      <th>category</th>\n",
       "      <th>size</th>\n",
       "      <th>ship-city</th>\n",
       "      <th>status</th>\n",
       "      <th>ship-service-level</th>\n",
       "    </tr>\n",
       "  </thead>\n",
       "  <tbody>\n",
       "    <tr>\n",
       "      <th>count</th>\n",
       "      <td>128975</td>\n",
       "      <td>128975</td>\n",
       "      <td>128975</td>\n",
       "      <td>128942</td>\n",
       "      <td>128975</td>\n",
       "      <td>128975</td>\n",
       "    </tr>\n",
       "    <tr>\n",
       "      <th>unique</th>\n",
       "      <td>2</td>\n",
       "      <td>9</td>\n",
       "      <td>11</td>\n",
       "      <td>8955</td>\n",
       "      <td>13</td>\n",
       "      <td>2</td>\n",
       "    </tr>\n",
       "    <tr>\n",
       "      <th>top</th>\n",
       "      <td>Amazon</td>\n",
       "      <td>Set</td>\n",
       "      <td>M</td>\n",
       "      <td>BENGALURU</td>\n",
       "      <td>Shipped</td>\n",
       "      <td>Expedited</td>\n",
       "    </tr>\n",
       "    <tr>\n",
       "      <th>freq</th>\n",
       "      <td>89698</td>\n",
       "      <td>50284</td>\n",
       "      <td>22711</td>\n",
       "      <td>11217</td>\n",
       "      <td>77804</td>\n",
       "      <td>88615</td>\n",
       "    </tr>\n",
       "  </tbody>\n",
       "</table>\n",
       "</div>"
      ],
      "text/plain": [
       "       fulfilment category    size  ship-city   status ship-service-level\n",
       "count      128975   128975  128975     128942   128975             128975\n",
       "unique          2        9      11       8955       13                  2\n",
       "top        Amazon      Set       M  BENGALURU  Shipped          Expedited\n",
       "freq        89698    50284   22711      11217    77804              88615"
      ]
     },
     "execution_count": 89,
     "metadata": {},
     "output_type": "execute_result"
    }
   ],
   "source": [
    "# Describe data\n",
    "ds[cats].describe()"
   ]
  },
  {
   "cell_type": "code",
   "execution_count": 90,
   "id": "5b28ec3b",
   "metadata": {},
   "outputs": [
    {
     "data": {
      "text/html": [
       "<div>\n",
       "<style scoped>\n",
       "    .dataframe tbody tr th:only-of-type {\n",
       "        vertical-align: middle;\n",
       "    }\n",
       "\n",
       "    .dataframe tbody tr th {\n",
       "        vertical-align: top;\n",
       "    }\n",
       "\n",
       "    .dataframe thead th {\n",
       "        text-align: right;\n",
       "    }\n",
       "</style>\n",
       "<table border=\"1\" class=\"dataframe\">\n",
       "  <thead>\n",
       "    <tr style=\"text-align: right;\">\n",
       "      <th></th>\n",
       "      <th>qty</th>\n",
       "      <th>amount</th>\n",
       "    </tr>\n",
       "  </thead>\n",
       "  <tbody>\n",
       "    <tr>\n",
       "      <th>count</th>\n",
       "      <td>128975.000000</td>\n",
       "      <td>121180.000000</td>\n",
       "    </tr>\n",
       "    <tr>\n",
       "      <th>mean</th>\n",
       "      <td>0.904431</td>\n",
       "      <td>648.561465</td>\n",
       "    </tr>\n",
       "    <tr>\n",
       "      <th>std</th>\n",
       "      <td>0.313354</td>\n",
       "      <td>281.211687</td>\n",
       "    </tr>\n",
       "    <tr>\n",
       "      <th>min</th>\n",
       "      <td>0.000000</td>\n",
       "      <td>0.000000</td>\n",
       "    </tr>\n",
       "    <tr>\n",
       "      <th>25%</th>\n",
       "      <td>1.000000</td>\n",
       "      <td>449.000000</td>\n",
       "    </tr>\n",
       "    <tr>\n",
       "      <th>50%</th>\n",
       "      <td>1.000000</td>\n",
       "      <td>605.000000</td>\n",
       "    </tr>\n",
       "    <tr>\n",
       "      <th>75%</th>\n",
       "      <td>1.000000</td>\n",
       "      <td>788.000000</td>\n",
       "    </tr>\n",
       "    <tr>\n",
       "      <th>max</th>\n",
       "      <td>15.000000</td>\n",
       "      <td>5584.000000</td>\n",
       "    </tr>\n",
       "  </tbody>\n",
       "</table>\n",
       "</div>"
      ],
      "text/plain": [
       "                 qty         amount\n",
       "count  128975.000000  121180.000000\n",
       "mean        0.904431     648.561465\n",
       "std         0.313354     281.211687\n",
       "min         0.000000       0.000000\n",
       "25%         1.000000     449.000000\n",
       "50%         1.000000     605.000000\n",
       "75%         1.000000     788.000000\n",
       "max        15.000000    5584.000000"
      ]
     },
     "execution_count": 90,
     "metadata": {},
     "output_type": "execute_result"
    }
   ],
   "source": [
    "# Describe data\n",
    "ds[nums].describe()"
   ]
  },
  {
   "cell_type": "code",
   "execution_count": 91,
   "id": "a44c919d",
   "metadata": {},
   "outputs": [
    {
     "data": {
      "text/html": [
       "<div>\n",
       "<style scoped>\n",
       "    .dataframe tbody tr th:only-of-type {\n",
       "        vertical-align: middle;\n",
       "    }\n",
       "\n",
       "    .dataframe tbody tr th {\n",
       "        vertical-align: top;\n",
       "    }\n",
       "\n",
       "    .dataframe thead th {\n",
       "        text-align: right;\n",
       "    }\n",
       "</style>\n",
       "<table border=\"1\" class=\"dataframe\">\n",
       "  <thead>\n",
       "    <tr style=\"text-align: right;\">\n",
       "      <th></th>\n",
       "      <th>Date</th>\n",
       "      <th>fulfilment</th>\n",
       "      <th>category</th>\n",
       "      <th>size</th>\n",
       "      <th>qty</th>\n",
       "      <th>amount</th>\n",
       "      <th>ship-city</th>\n",
       "      <th>status</th>\n",
       "      <th>ship-service-level</th>\n",
       "    </tr>\n",
       "  </thead>\n",
       "  <tbody>\n",
       "    <tr>\n",
       "      <th>0</th>\n",
       "      <td>2022-04-30</td>\n",
       "      <td>Merchant</td>\n",
       "      <td>Set</td>\n",
       "      <td>S</td>\n",
       "      <td>0</td>\n",
       "      <td>647.62</td>\n",
       "      <td>MUMBAI</td>\n",
       "      <td>Cancelled</td>\n",
       "      <td>Standard</td>\n",
       "    </tr>\n",
       "    <tr>\n",
       "      <th>1</th>\n",
       "      <td>2022-04-30</td>\n",
       "      <td>Merchant</td>\n",
       "      <td>kurta</td>\n",
       "      <td>3XL</td>\n",
       "      <td>1</td>\n",
       "      <td>406.00</td>\n",
       "      <td>BENGALURU</td>\n",
       "      <td>Shipped - Delivered to Buyer</td>\n",
       "      <td>Standard</td>\n",
       "    </tr>\n",
       "    <tr>\n",
       "      <th>2</th>\n",
       "      <td>2022-04-30</td>\n",
       "      <td>Amazon</td>\n",
       "      <td>kurta</td>\n",
       "      <td>XL</td>\n",
       "      <td>1</td>\n",
       "      <td>329.00</td>\n",
       "      <td>NAVI MUMBAI</td>\n",
       "      <td>Shipped</td>\n",
       "      <td>Expedited</td>\n",
       "    </tr>\n",
       "    <tr>\n",
       "      <th>3</th>\n",
       "      <td>2022-04-30</td>\n",
       "      <td>Merchant</td>\n",
       "      <td>Western Dress</td>\n",
       "      <td>L</td>\n",
       "      <td>0</td>\n",
       "      <td>753.33</td>\n",
       "      <td>PUDUCHERRY</td>\n",
       "      <td>Cancelled</td>\n",
       "      <td>Standard</td>\n",
       "    </tr>\n",
       "    <tr>\n",
       "      <th>4</th>\n",
       "      <td>2022-04-30</td>\n",
       "      <td>Amazon</td>\n",
       "      <td>Top</td>\n",
       "      <td>3XL</td>\n",
       "      <td>1</td>\n",
       "      <td>574.00</td>\n",
       "      <td>CHENNAI</td>\n",
       "      <td>Shipped</td>\n",
       "      <td>Expedited</td>\n",
       "    </tr>\n",
       "  </tbody>\n",
       "</table>\n",
       "</div>"
      ],
      "text/plain": [
       "        Date fulfilment       category size  qty  amount    ship-city  \\\n",
       "0 2022-04-30   Merchant            Set    S    0  647.62       MUMBAI   \n",
       "1 2022-04-30   Merchant          kurta  3XL    1  406.00    BENGALURU   \n",
       "2 2022-04-30     Amazon          kurta   XL    1  329.00  NAVI MUMBAI   \n",
       "3 2022-04-30   Merchant  Western Dress    L    0  753.33   PUDUCHERRY   \n",
       "4 2022-04-30     Amazon            Top  3XL    1  574.00      CHENNAI   \n",
       "\n",
       "                         status ship-service-level  \n",
       "0                     Cancelled           Standard  \n",
       "1  Shipped - Delivered to Buyer           Standard  \n",
       "2                       Shipped          Expedited  \n",
       "3                     Cancelled           Standard  \n",
       "4                       Shipped          Expedited  "
      ]
     },
     "execution_count": 91,
     "metadata": {},
     "output_type": "execute_result"
    }
   ],
   "source": [
    "ds.head()"
   ]
  },
  {
   "cell_type": "code",
   "execution_count": 92,
   "id": "bfb509bd",
   "metadata": {},
   "outputs": [
    {
     "data": {
      "text/html": [
       "<div>\n",
       "<style scoped>\n",
       "    .dataframe tbody tr th:only-of-type {\n",
       "        vertical-align: middle;\n",
       "    }\n",
       "\n",
       "    .dataframe tbody tr th {\n",
       "        vertical-align: top;\n",
       "    }\n",
       "\n",
       "    .dataframe thead th {\n",
       "        text-align: right;\n",
       "    }\n",
       "</style>\n",
       "<table border=\"1\" class=\"dataframe\">\n",
       "  <thead>\n",
       "    <tr style=\"text-align: right;\">\n",
       "      <th></th>\n",
       "      <th>category</th>\n",
       "      <th>qty</th>\n",
       "    </tr>\n",
       "  </thead>\n",
       "  <tbody>\n",
       "    <tr>\n",
       "      <th>2</th>\n",
       "      <td>Dupatta</td>\n",
       "      <td>3</td>\n",
       "    </tr>\n",
       "    <tr>\n",
       "      <th>4</th>\n",
       "      <td>Saree</td>\n",
       "      <td>152</td>\n",
       "    </tr>\n",
       "    <tr>\n",
       "      <th>1</th>\n",
       "      <td>Bottom</td>\n",
       "      <td>398</td>\n",
       "    </tr>\n",
       "    <tr>\n",
       "      <th>0</th>\n",
       "      <td>Blouse</td>\n",
       "      <td>863</td>\n",
       "    </tr>\n",
       "    <tr>\n",
       "      <th>3</th>\n",
       "      <td>Ethnic Dress</td>\n",
       "      <td>1053</td>\n",
       "    </tr>\n",
       "  </tbody>\n",
       "</table>\n",
       "</div>"
      ],
      "text/plain": [
       "       category   qty\n",
       "2       Dupatta     3\n",
       "4         Saree   152\n",
       "1        Bottom   398\n",
       "0        Blouse   863\n",
       "3  Ethnic Dress  1053"
      ]
     },
     "execution_count": 92,
     "metadata": {},
     "output_type": "execute_result"
    }
   ],
   "source": [
    "# Category penjualan peringkat 3 terakhir berdasarkan qty\n",
    "less5_cats = (ds\n",
    "            .groupby('category')\n",
    "            .agg(qty=('qty','sum'))\n",
    "            .reset_index()\n",
    "            .sort_values('qty',ascending=True)\n",
    "            .head(5)\n",
    "            )\n",
    "less5_cats"
   ]
  },
  {
   "cell_type": "code",
   "execution_count": 93,
   "id": "d9d9744c",
   "metadata": {},
   "outputs": [
    {
     "data": {
      "image/png": "[encoded data removed]",
      "text/plain": [
       "<Figure size 500x300 with 1 Axes>"
      ]
     },
     "metadata": {},
     "output_type": "display_data"
    }
   ],
   "source": [
    "# visualize it\n",
    "plt.figure(figsize=(5, 3))\n",
    "sns.barplot(data=less5_cats, x='category', y='qty')\n",
    "plt.xticks(rotation=45)\n",
    "plt.xlabel\n",
    "plt.show()"
   ]
  },
  {
   "cell_type": "code",
   "execution_count": 94,
   "id": "3546d6ec",
   "metadata": {},
   "outputs": [
    {
     "data": {
      "text/plain": [
       "status\n",
       "Shipped                          77804\n",
       "Shipped - Delivered to Buyer     28769\n",
       "Cancelled                        18332\n",
       "Shipped - Returned to Seller      1953\n",
       "Shipped - Picked Up                973\n",
       "Pending                            658\n",
       "Pending - Waiting for Pick Up      281\n",
       "Shipped - Returning to Seller      145\n",
       "Shipped - Out for Delivery          35\n",
       "Shipped - Rejected by Buyer         11\n",
       "Shipping                             8\n",
       "Shipped - Lost in Transit            5\n",
       "Shipped - Damaged                    1\n",
       "Name: count, dtype: int64"
      ]
     },
     "execution_count": 94,
     "metadata": {},
     "output_type": "execute_result"
    }
   ],
   "source": [
    "ds['status'].value_counts()"
   ]
  },
  {
   "cell_type": "code",
   "execution_count": 95,
   "id": "7f40282d",
   "metadata": {},
   "outputs": [
    {
     "data": {
      "text/html": [
       "<div>\n",
       "<style scoped>\n",
       "    .dataframe tbody tr th:only-of-type {\n",
       "        vertical-align: middle;\n",
       "    }\n",
       "\n",
       "    .dataframe tbody tr th {\n",
       "        vertical-align: top;\n",
       "    }\n",
       "\n",
       "    .dataframe thead th {\n",
       "        text-align: right;\n",
       "    }\n",
       "</style>\n",
       "<table border=\"1\" class=\"dataframe\">\n",
       "  <thead>\n",
       "    <tr style=\"text-align: right;\">\n",
       "      <th></th>\n",
       "      <th>Date</th>\n",
       "      <th>fulfilment</th>\n",
       "      <th>category</th>\n",
       "      <th>size</th>\n",
       "      <th>qty</th>\n",
       "      <th>amount</th>\n",
       "      <th>ship-city</th>\n",
       "      <th>status</th>\n",
       "      <th>ship-service-level</th>\n",
       "    </tr>\n",
       "  </thead>\n",
       "  <tbody>\n",
       "    <tr>\n",
       "      <th>0</th>\n",
       "      <td>2022-04-30</td>\n",
       "      <td>Merchant</td>\n",
       "      <td>Set</td>\n",
       "      <td>S</td>\n",
       "      <td>0</td>\n",
       "      <td>647.62</td>\n",
       "      <td>MUMBAI</td>\n",
       "      <td>Cancelled</td>\n",
       "      <td>Standard</td>\n",
       "    </tr>\n",
       "    <tr>\n",
       "      <th>3</th>\n",
       "      <td>2022-04-30</td>\n",
       "      <td>Merchant</td>\n",
       "      <td>Western Dress</td>\n",
       "      <td>L</td>\n",
       "      <td>0</td>\n",
       "      <td>753.33</td>\n",
       "      <td>PUDUCHERRY</td>\n",
       "      <td>Cancelled</td>\n",
       "      <td>Standard</td>\n",
       "    </tr>\n",
       "    <tr>\n",
       "      <th>8</th>\n",
       "      <td>2022-04-30</td>\n",
       "      <td>Amazon</td>\n",
       "      <td>Set</td>\n",
       "      <td>3XL</td>\n",
       "      <td>0</td>\n",
       "      <td>NaN</td>\n",
       "      <td>HYDERABAD</td>\n",
       "      <td>Cancelled</td>\n",
       "      <td>Expedited</td>\n",
       "    </tr>\n",
       "    <tr>\n",
       "      <th>23</th>\n",
       "      <td>2022-04-30</td>\n",
       "      <td>Merchant</td>\n",
       "      <td>Set</td>\n",
       "      <td>M</td>\n",
       "      <td>0</td>\n",
       "      <td>570.48</td>\n",
       "      <td>pune</td>\n",
       "      <td>Cancelled</td>\n",
       "      <td>Standard</td>\n",
       "    </tr>\n",
       "    <tr>\n",
       "      <th>29</th>\n",
       "      <td>2022-04-30</td>\n",
       "      <td>Merchant</td>\n",
       "      <td>kurta</td>\n",
       "      <td>3XL</td>\n",
       "      <td>0</td>\n",
       "      <td>NaN</td>\n",
       "      <td>GUWAHATI</td>\n",
       "      <td>Cancelled</td>\n",
       "      <td>Standard</td>\n",
       "    </tr>\n",
       "    <tr>\n",
       "      <th>...</th>\n",
       "      <td>...</td>\n",
       "      <td>...</td>\n",
       "      <td>...</td>\n",
       "      <td>...</td>\n",
       "      <td>...</td>\n",
       "      <td>...</td>\n",
       "      <td>...</td>\n",
       "      <td>...</td>\n",
       "      <td>...</td>\n",
       "    </tr>\n",
       "    <tr>\n",
       "      <th>128961</th>\n",
       "      <td>2022-05-31</td>\n",
       "      <td>Amazon</td>\n",
       "      <td>Western Dress</td>\n",
       "      <td>XL</td>\n",
       "      <td>1</td>\n",
       "      <td>771.00</td>\n",
       "      <td>Junagadh</td>\n",
       "      <td>Cancelled</td>\n",
       "      <td>Expedited</td>\n",
       "    </tr>\n",
       "    <tr>\n",
       "      <th>128962</th>\n",
       "      <td>2022-05-31</td>\n",
       "      <td>Amazon</td>\n",
       "      <td>kurta</td>\n",
       "      <td>L</td>\n",
       "      <td>1</td>\n",
       "      <td>665.00</td>\n",
       "      <td>MUMBAI</td>\n",
       "      <td>Cancelled</td>\n",
       "      <td>Expedited</td>\n",
       "    </tr>\n",
       "    <tr>\n",
       "      <th>128965</th>\n",
       "      <td>2022-05-31</td>\n",
       "      <td>Amazon</td>\n",
       "      <td>Top</td>\n",
       "      <td>3XL</td>\n",
       "      <td>1</td>\n",
       "      <td>574.00</td>\n",
       "      <td>Prayagraj (ALLAHABAD)</td>\n",
       "      <td>Cancelled</td>\n",
       "      <td>Expedited</td>\n",
       "    </tr>\n",
       "    <tr>\n",
       "      <th>128967</th>\n",
       "      <td>2022-05-31</td>\n",
       "      <td>Amazon</td>\n",
       "      <td>kurta</td>\n",
       "      <td>XS</td>\n",
       "      <td>0</td>\n",
       "      <td>NaN</td>\n",
       "      <td>Kolkata</td>\n",
       "      <td>Cancelled</td>\n",
       "      <td>Expedited</td>\n",
       "    </tr>\n",
       "    <tr>\n",
       "      <th>128969</th>\n",
       "      <td>2022-05-31</td>\n",
       "      <td>Amazon</td>\n",
       "      <td>Set</td>\n",
       "      <td>M</td>\n",
       "      <td>1</td>\n",
       "      <td>612.00</td>\n",
       "      <td>MUMBAI</td>\n",
       "      <td>Cancelled</td>\n",
       "      <td>Expedited</td>\n",
       "    </tr>\n",
       "  </tbody>\n",
       "</table>\n",
       "<p>18332 rows × 9 columns</p>\n",
       "</div>"
      ],
      "text/plain": [
       "             Date fulfilment       category size  qty  amount  \\\n",
       "0      2022-04-30   Merchant            Set    S    0  647.62   \n",
       "3      2022-04-30   Merchant  Western Dress    L    0  753.33   \n",
       "8      2022-04-30     Amazon            Set  3XL    0     NaN   \n",
       "23     2022-04-30   Merchant            Set    M    0  570.48   \n",
       "29     2022-04-30   Merchant          kurta  3XL    0     NaN   \n",
       "...           ...        ...            ...  ...  ...     ...   \n",
       "128961 2022-05-31     Amazon  Western Dress   XL    1  771.00   \n",
       "128962 2022-05-31     Amazon          kurta    L    1  665.00   \n",
       "128965 2022-05-31     Amazon            Top  3XL    1  574.00   \n",
       "128967 2022-05-31     Amazon          kurta   XS    0     NaN   \n",
       "128969 2022-05-31     Amazon            Set    M    1  612.00   \n",
       "\n",
       "                    ship-city     status ship-service-level  \n",
       "0                      MUMBAI  Cancelled           Standard  \n",
       "3                  PUDUCHERRY  Cancelled           Standard  \n",
       "8                   HYDERABAD  Cancelled          Expedited  \n",
       "23                       pune  Cancelled           Standard  \n",
       "29                   GUWAHATI  Cancelled           Standard  \n",
       "...                       ...        ...                ...  \n",
       "128961               Junagadh  Cancelled          Expedited  \n",
       "128962                 MUMBAI  Cancelled          Expedited  \n",
       "128965  Prayagraj (ALLAHABAD)  Cancelled          Expedited  \n",
       "128967                Kolkata  Cancelled          Expedited  \n",
       "128969                 MUMBAI  Cancelled          Expedited  \n",
       "\n",
       "[18332 rows x 9 columns]"
      ]
     },
     "execution_count": 95,
     "metadata": {},
     "output_type": "execute_result"
    }
   ],
   "source": [
    "cancelled_counts = ds[ds['status'] == 'Cancelled']\n",
    "cancelled_counts"
   ]
  },
  {
   "cell_type": "code",
   "execution_count": 96,
   "id": "7f2dfd21",
   "metadata": {},
   "outputs": [
    {
     "data": {
      "text/html": [
       "<div>\n",
       "<style scoped>\n",
       "    .dataframe tbody tr th:only-of-type {\n",
       "        vertical-align: middle;\n",
       "    }\n",
       "\n",
       "    .dataframe tbody tr th {\n",
       "        vertical-align: top;\n",
       "    }\n",
       "\n",
       "    .dataframe thead tr th {\n",
       "        text-align: left;\n",
       "    }\n",
       "\n",
       "    .dataframe thead tr:last-of-type th {\n",
       "        text-align: right;\n",
       "    }\n",
       "</style>\n",
       "<table border=\"1\" class=\"dataframe\">\n",
       "  <thead>\n",
       "    <tr>\n",
       "      <th></th>\n",
       "      <th></th>\n",
       "      <th>count</th>\n",
       "    </tr>\n",
       "    <tr>\n",
       "      <th></th>\n",
       "      <th></th>\n",
       "      <th>qty</th>\n",
       "    </tr>\n",
       "    <tr>\n",
       "      <th>fulfilment</th>\n",
       "      <th>ship-service-level</th>\n",
       "      <th></th>\n",
       "    </tr>\n",
       "  </thead>\n",
       "  <tbody>\n",
       "    <tr>\n",
       "      <th rowspan=\"2\" valign=\"top\">Amazon</th>\n",
       "      <th>Expedited</th>\n",
       "      <td>11423</td>\n",
       "    </tr>\n",
       "    <tr>\n",
       "      <th>Standard</th>\n",
       "      <td>48</td>\n",
       "    </tr>\n",
       "    <tr>\n",
       "      <th>Merchant</th>\n",
       "      <th>Standard</th>\n",
       "      <td>6861</td>\n",
       "    </tr>\n",
       "  </tbody>\n",
       "</table>\n",
       "</div>"
      ],
      "text/plain": [
       "                               count\n",
       "                                 qty\n",
       "fulfilment ship-service-level       \n",
       "Amazon     Expedited           11423\n",
       "           Standard               48\n",
       "Merchant   Standard             6861"
      ]
     },
     "execution_count": 96,
     "metadata": {},
     "output_type": "execute_result"
    }
   ],
   "source": [
    "cancelled_counts.pivot_table(index = ['fulfilment', 'ship-service-level'], values = 'qty', \n",
    "              aggfunc = ['count'])\n",
    "# paling banyak ternyata"
   ]
  },
  {
   "cell_type": "markdown",
   "id": "5581b803",
   "metadata": {},
   "source": [
    "Pengiriman di cancel paling banyak berasal dari AMazon dengan pengriman cepat."
   ]
  },
  {
   "cell_type": "code",
   "execution_count": 97,
   "id": "607f6b26",
   "metadata": {},
   "outputs": [
    {
     "data": {
      "image/png": "[encoded data removed]",
      "text/plain": [
       "<Figure size 500x300 with 1 Axes>"
      ]
     },
     "metadata": {},
     "output_type": "display_data"
    }
   ],
   "source": [
    "# Size apa yang paling banyak di minati orang?\n",
    "\n",
    "# Filtering\n",
    "a = ds[(ds['size'] == 1)]\n",
    "\n",
    "size_repot = (ds\n",
    "            .groupby('size')\n",
    "           .agg(Size=('size', 'count'))\n",
    "           .reset_index()\n",
    "           .sort_values('Size', ascending=False))\n",
    "size_repot\n",
    "\n",
    "# visualize it\n",
    "plt.figure(figsize=(5,3))\n",
    "sns.barplot(data=size_repot, x='size', y='Size')\n",
    "plt.show()"
   ]
  },
  {
   "cell_type": "code",
   "execution_count": null,
   "id": "568ea83b",
   "metadata": {},
   "outputs": [],
   "source": []
  },
  {
   "cell_type": "code",
   "execution_count": null,
   "id": "8c00142a",
   "metadata": {},
   "outputs": [],
   "source": []
  }
 ],
 "metadata": {
  "kernelspec": {
   "display_name": "Python 3 (ipykernel)",
   "language": "python",
   "name": "python3"
  },
  "language_info": {
   "codemirror_mode": {
    "name": "ipython",
    "version": 3
   },
   "file_extension": ".py",
   "mimetype": "text/x-python",
   "name": "python",
   "nbconvert_exporter": "python",
   "pygments_lexer": "ipython3",
   "version": "3.11.9"
  }
 },
 "nbformat": 4,
 "nbformat_minor": 5
}
